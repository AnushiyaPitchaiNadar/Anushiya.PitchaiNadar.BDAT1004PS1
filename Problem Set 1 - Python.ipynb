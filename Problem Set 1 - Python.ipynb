{
 "cells": [
  {
   "cell_type": "markdown",
   "id": "caec69aa",
   "metadata": {},
   "source": [
    "<h1><font color='#004b87'>Question 6 Python</font></h1>\n",
    "<p>You can turn a word into pig-Latin using the following two rules (simplified):</p>\n",
    "<li>If the word starts with a consonant, move that letter to the end and append 'ay'. For example, 'happy' becomes 'appyhay' and 'pencil' becomes 'encilpay'.</li>\n",
    "<li>If the word starts with a vowel, simply append 'way' to the end of the word. For example, 'enter' becomes 'enterway' and 'other' becomes 'otherway' . For our purposes, there are 5 vowels: a, e, i, o, u (so we count y as a consonant).</li>\n",
    "<p>Write a function pig() that takes a word (i.e., a string) as input and returns its pig-Latin form. Your function should still work if the input word contains upper case characters. Your output should always be lower case however.</p>"
   ]
  },
  {
   "cell_type": "code",
   "execution_count": 1,
   "id": "aaa406ba",
   "metadata": {},
   "outputs": [],
   "source": [
    "def pig(word):\n",
    "    vowels = ['a', 'e', 'i', 'o', 'u']\n",
    "    if word[0] in vowels:\n",
    "        print(word +\"way\")\n",
    "    else:\n",
    "        print(word[1:] + word[0] + \"ay\")"
   ]
  },
  {
   "cell_type": "code",
   "execution_count": 2,
   "id": "f935e251",
   "metadata": {},
   "outputs": [
    {
     "name": "stdout",
     "output_type": "stream",
     "text": [
      "Enter a word: happy\n",
      "appyhay\n"
     ]
    }
   ],
   "source": [
    "pig(input(\"Enter a word: \").lower())"
   ]
  },
  {
   "cell_type": "code",
   "execution_count": 3,
   "id": "6f412e16",
   "metadata": {},
   "outputs": [
    {
     "name": "stdout",
     "output_type": "stream",
     "text": [
      "Enter a word: Enter\n",
      "enterway\n"
     ]
    }
   ],
   "source": [
    "pig(input(\"Enter a word: \").lower())"
   ]
  },
  {
   "cell_type": "markdown",
   "id": "a7cd0184",
   "metadata": {},
   "source": [
    "<h1><font color='#004b87'>Question 7 Python</font></h1>\n",
    "<p>File bloodtype1.txt records blood-types of patients (A, B, AB, O or OO) at a clinic. Write a function bldcount() that reads the file with name name and reports (i.e., prints) how many patients there are in each bloodtype.</p>"
   ]
  },
  {
   "cell_type": "code",
   "execution_count": 4,
   "id": "04818b6c",
   "metadata": {},
   "outputs": [],
   "source": [
    "def bldcount(filename):\n",
    "    file = open(filename)\n",
    "    content = file.read()\n",
    "    blood_types = content.split()\n",
    "    blood_count = {}\n",
    "    for blood_type in blood_types:\n",
    "        count = blood_count.get(blood_type)\n",
    "        if(count == None):\n",
    "            blood_count[blood_type] = 1\n",
    "        else:\n",
    "            blood_count[blood_type] = count + 1\n",
    "    return blood_count;"
   ]
  },
  {
   "cell_type": "code",
   "execution_count": 5,
   "id": "8cbaa8bf",
   "metadata": {},
   "outputs": [
    {
     "name": "stdout",
     "output_type": "stream",
     "text": [
      "There are 15 patients of blood type A\n",
      "There are 1 patients of blood type B\n",
      "There are 13 patients of blood type AB\n",
      "There are 15 patients of blood type O\n",
      "There are no patients of blood type OO\n"
     ]
    }
   ],
   "source": [
    "bloods = ['A', 'B', 'AB', 'O', 'OO']\n",
    "blood_count = bldcount('bloodtype.txt')\n",
    "for blood in bloods:\n",
    "    if(blood in blood_count):\n",
    "        print(f\"There are {blood_count[blood]} patients of blood type {blood}\")\n",
    "    else:\n",
    "        print(\"There are no patients of blood type {}\".format(blood))"
   ]
  },
  {
   "cell_type": "markdown",
   "id": "2c9f75a0",
   "metadata": {},
   "source": [
    "<h1><font color='#004b87'>Question 8 Python</font></h1>\n",
    "<p>Write a function curconv() that takes as input:</p>\n",
    "<li>a currency represented using a string (e.g., 'JPY' for the Japanese Yen or 'EUR' for the Euro)</li>\n",
    "<li>an amount</li>\n",
    "<p>and then converts and returns the amount in US dollars.</p>"
   ]
  },
  {
   "cell_type": "code",
   "execution_count": 6,
   "id": "46abeb1c",
   "metadata": {},
   "outputs": [],
   "source": [
    "def curconv(curr, amount):\n",
    "    file = open(\"currencies.txt\")\n",
    "    content = file.read()\n",
    "    lines = content.split(\"\\n\")\n",
    "    for line in lines:\n",
    "#         Referred - https://stackoverflow.com/questions/13471746/assign-split-values-to-multiple-variables\n",
    "        currency, exchange_rate, *_ = line.split()\n",
    "        if (currency == curr):\n",
    "            return float(exchange_rate) * float(amount)"
   ]
  },
  {
   "cell_type": "code",
   "execution_count": 7,
   "id": "24d0d47f",
   "metadata": {},
   "outputs": [
    {
     "name": "stdout",
     "output_type": "stream",
     "text": [
      "Enter currency: EUR\n",
      "Enter amount: 100\n",
      "Amount in US Dollars is 122.96544\n"
     ]
    }
   ],
   "source": [
    "curr = input(\"Enter currency: \")\n",
    "amount = input(\"Enter amount: \")\n",
    "us_dollars = curconv(curr, amount)\n",
    "if(us_dollars == None):\n",
    "    print(\"You have entered invalid currency. Please check and run again!\")\n",
    "else:\n",
    "    print(\"Amount in US Dollars is {}\".format(us_dollars))"
   ]
  },
  {
   "cell_type": "code",
   "execution_count": 8,
   "id": "0a12ef56",
   "metadata": {},
   "outputs": [
    {
     "name": "stdout",
     "output_type": "stream",
     "text": [
      "Enter currency: JPY\n",
      "Enter amount: 100\n",
      "Amount in US Dollars is 1.241401\n"
     ]
    }
   ],
   "source": [
    "curr = input(\"Enter currency: \")\n",
    "amount = input(\"Enter amount: \")\n",
    "us_dollars = curconv(curr, amount)\n",
    "if(us_dollars == None):\n",
    "    print(\"You have entered invalid currency. Please check and run again!\")\n",
    "else:\n",
    "    print(\"Amount in US Dollars is {}\".format(us_dollars))"
   ]
  },
  {
   "cell_type": "markdown",
   "id": "d1091059",
   "metadata": {},
   "source": [
    "<h1><font color='#004b87'>Question 9 Python</font></h1>\n",
    "<p>Each of the following will cause an exception (an error). Identify what type of exception each will cause.</p>\n",
    "<li>Trying to add incompatible variables, as in adding 6 + ‘a’</li>\n",
    "<li>Referring to the 12th item of a list that has only 10 items</li>\n",
    "<li>Using a value that is out of range for a function’s input, such as calling math.sqrt( 1.0)</li>\n",
    "<li>Using an undeclared variable, such as p rint(x)\n",
    "when x has not been defined</li>\n",
    "<li>Trying to open a file that does not exist, such as mistyping the file name or looking in the wrong directory.</li>"
   ]
  },
  {
   "cell_type": "code",
   "execution_count": 9,
   "id": "04130204",
   "metadata": {},
   "outputs": [],
   "source": [
    "# Referred - https://docs.python.org/3/tutorial/errors.html\n",
    "\n",
    "import math"
   ]
  },
  {
   "cell_type": "code",
   "execution_count": 10,
   "id": "8df09357",
   "metadata": {},
   "outputs": [
    {
     "name": "stdout",
     "output_type": "stream",
     "text": [
      "When we add incompatible variables (6 + 'a'), we get TypeError Exception.\n",
      "\n",
      "<class 'TypeError'> Occurred - unsupported operand type(s) for +: 'int' and 'str'\n"
     ]
    }
   ],
   "source": [
    "print(\"When we add incompatible variables (6 + 'a'), we get TypeError Exception.\\n\")\n",
    "\n",
    "try:\n",
    "    type_error = 6 + 'a'\n",
    "except TypeError as e:\n",
    "    print(\"{} Occurred - {}\".format(type(e), e))"
   ]
  },
  {
   "cell_type": "code",
   "execution_count": 11,
   "id": "a20d654a",
   "metadata": {},
   "outputs": [
    {
     "name": "stdout",
     "output_type": "stream",
     "text": [
      "When we refer to the 12th item of list that has only 10 items, we get IndexError Exception.\n",
      "\n",
      "<class 'IndexError'> Occurred - range object index out of range\n"
     ]
    }
   ],
   "source": [
    "print(\"When we refer to the 12th item of list that has only 10 items, we get IndexError Exception.\\n\")\n",
    "\n",
    "try:\n",
    "    list = range(10)\n",
    "    index_error = list[12]\n",
    "except IndexError as e:\n",
    "    print(\"{} Occurred - {}\".format(type(e), e))"
   ]
  },
  {
   "cell_type": "code",
   "execution_count": 12,
   "id": "bb78ea70",
   "metadata": {},
   "outputs": [
    {
     "name": "stdout",
     "output_type": "stream",
     "text": [
      "When we use a value that is out of range for a function's input (math.sqrt(-1.0)), we get ValueError Exception.\n",
      "\n",
      "<class 'ValueError'> Occurred - math domain error\n"
     ]
    }
   ],
   "source": [
    "print(\"When we use a value that is out of range for a function's input (math.sqrt(-1.0)), we get ValueError Exception.\\n\")\n",
    "\n",
    "try:\n",
    "    value_error = math.sqrt(-1)\n",
    "except ValueError as e:\n",
    "    print(\"{} Occurred - {}\".format(type(e), e))"
   ]
  },
  {
   "cell_type": "code",
   "execution_count": 13,
   "id": "8e23989b",
   "metadata": {},
   "outputs": [
    {
     "name": "stdout",
     "output_type": "stream",
     "text": [
      "When we use an undeclared variable, we get NameError Exception.\n",
      "\n",
      "<class 'NameError'> Occurred - name 'name_error' is not defined\n"
     ]
    }
   ],
   "source": [
    "print(\"When we use an undeclared variable, we get NameError Exception.\\n\")\n",
    "\n",
    "try:\n",
    "    print(name_error)\n",
    "except NameError as e:\n",
    "    print(\"{} Occurred - {}\".format(type(e), e))"
   ]
  },
  {
   "cell_type": "code",
   "execution_count": 14,
   "id": "d2149557",
   "metadata": {},
   "outputs": [
    {
     "name": "stdout",
     "output_type": "stream",
     "text": [
      "When we try to access files that doesn't exist, we get FileNotFoundError Exception.\n",
      "\n",
      "<class 'FileNotFoundError'> Occurred - [Errno 2] No such file or directory: 'file_does_not_exist'\n"
     ]
    }
   ],
   "source": [
    "print(\"When we try to access files that doesn't exist, we get FileNotFoundError Exception.\\n\")\n",
    "\n",
    "try:\n",
    "    file_not_found_error = open(\"file_does_not_exist\").read()\n",
    "except FileNotFoundError as e:\n",
    "    print(\"{} Occurred - {}\".format(type(e), e))"
   ]
  },
  {
   "cell_type": "markdown",
   "id": "5e6cd504",
   "metadata": {},
   "source": [
    "<h1><font color='#004b87'>Question 10 Python</font></h1>\n",
    "<p>Encryption is the process of hiding the meaning of a text by substituting letters in the message with other letters, according to some system. If the process is successful, no one but the intended recipient can understand the encrypted message. Cryptanalysis refers to attempts to undo the encryption, even if some details of the encryption are unknown (for example, if an encrypted message has been intercepted). The first step of cryptanalysis is often to build up a table of letter frequencies in the encrypted text. Assume that the string letters is already defined as 'abcdefghijklmnopqrstuvwxyz'. Write a function called frequencies() that takes a string as its only parameter, and returns a list of integers, showing the number of times each character appears in the text. Your function may ignore any characters that are not in letters.</p>"
   ]
  },
  {
   "cell_type": "code",
   "execution_count": 15,
   "id": "11ece285",
   "metadata": {},
   "outputs": [],
   "source": [
    "def frequencies(sentence):\n",
    "#     Index for alphabets a to z.\n",
    "    frequency = [0, 0, 0, 0, 0, 0, 0, 0, 0, 0, 0, 0, 0, 0, 0, 0, 0, 0, 0, 0, 0, 0, 0, 0, 0, 0]\n",
    "    for letter in sentence:\n",
    "        index = ord(letter)-97\n",
    "        if(index >= 0 and index <= 25):\n",
    "            frequency[index] = frequency[index] + 1\n",
    "    print(frequency)"
   ]
  },
  {
   "cell_type": "code",
   "execution_count": 16,
   "id": "70104ae4",
   "metadata": {},
   "outputs": [
    {
     "name": "stdout",
     "output_type": "stream",
     "text": [
      "Enter a sentence: The quick red fox got bored and went home.\n",
      "[1, 1, 1, 3, 5, 1, 1, 2, 1, 0, 1, 0, 1, 2, 4, 0, 1, 2, 0, 3, 1, 0, 1, 1, 0, 0]\n"
     ]
    }
   ],
   "source": [
    "frequencies(input(\"Enter a sentence: \").lower())"
   ]
  },
  {
   "cell_type": "code",
   "execution_count": 17,
   "id": "5ebe35ae",
   "metadata": {},
   "outputs": [
    {
     "name": "stdout",
     "output_type": "stream",
     "text": [
      "Enter a sentence: apple\n",
      "[1, 0, 0, 0, 1, 0, 0, 0, 0, 0, 0, 1, 0, 0, 0, 2, 0, 0, 0, 0, 0, 0, 0, 0, 0, 0]\n"
     ]
    }
   ],
   "source": [
    "frequencies(input(\"Enter a sentence: \").lower())"
   ]
  }
 ],
 "metadata": {
  "kernelspec": {
   "display_name": "Python 3 (ipykernel)",
   "language": "python",
   "name": "python3"
  },
  "language_info": {
   "codemirror_mode": {
    "name": "ipython",
    "version": 3
   },
   "file_extension": ".py",
   "mimetype": "text/x-python",
   "name": "python",
   "nbconvert_exporter": "python",
   "pygments_lexer": "ipython3",
   "version": "3.11.5"
  }
 },
 "nbformat": 4,
 "nbformat_minor": 5
}
