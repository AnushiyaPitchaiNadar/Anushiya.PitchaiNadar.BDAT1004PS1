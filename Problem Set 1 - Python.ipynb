{
 "cells": [
  {
   "cell_type": "code",
   "execution_count": 25,
   "id": "53b87a77",
   "metadata": {},
   "outputs": [
    {
     "name": "stdout",
     "output_type": "stream",
     "text": [
      "Enter a word: anushiya\n",
      "anushiyaway\n"
     ]
    }
   ],
   "source": [
    "def pig(word):\n",
    "    vowels = ['a', 'e', 'i', 'o', 'u']\n",
    "    if word[0] in vowels:\n",
    "        print(word +\"way\")\n",
    "    else:\n",
    "        print(word[1:] + word[0] + \"ay\")\n",
    "        \n",
    "pig(input(\"Enter a word: \").lower())"
   ]
  },
  {
   "cell_type": "code",
   "execution_count": 26,
   "id": "be38f909",
   "metadata": {},
   "outputs": [
    {
     "name": "stdout",
     "output_type": "stream",
     "text": [
      "Enter a sentence: fiuahgae gefhlougehoigtr\n",
      "[2, 0, 0, 0, 3, 2, 4, 3, 2, 0, 0, 1, 0, 0, 2, 0, 0, 1, 0, 1, 2, 0, 0, 0, 0, 0]\n"
     ]
    }
   ],
   "source": [
    "def frequencies(sentence):\n",
    "    frequency = [0, 0, 0, 0, 0, 0, 0, 0, 0, 0, 0, 0, 0, 0, 0, 0, 0, 0, 0, 0, 0, 0, 0, 0, 0, 0]\n",
    "    for letter in sentence:\n",
    "        index = ord(letter)-97\n",
    "        if(index >= 0 and index <= 25):\n",
    "            frequency[index] = frequency[index] + 1\n",
    "    print(frequency)\n",
    "frequencies(input(\"Enter a sentence: \").lower())"
   ]
  },
  {
   "cell_type": "code",
   "execution_count": 27,
   "id": "c5d255a9",
   "metadata": {},
   "outputs": [
    {
     "name": "stdout",
     "output_type": "stream",
     "text": [
      "{'AB': 13, 'B': 1, 'O': 15, 'A': 15}\n"
     ]
    }
   ],
   "source": [
    "def bldcount(filename):\n",
    "    file = open(filename)\n",
    "    content = file.read()\n",
    "    blood_types = content.split()\n",
    "    blood_count = {}\n",
    "    for blood_type in blood_types:\n",
    "        count = blood_count.get(blood_type)\n",
    "        if(count == None):\n",
    "            blood_count[blood_type] = 1\n",
    "        else:\n",
    "            blood_count[blood_type] = count + 1\n",
    "    print(blood_count)\n",
    "    \n",
    "bldcount('bloodtype.txt')"
   ]
  },
  {
   "cell_type": "code",
   "execution_count": null,
   "id": "507608af",
   "metadata": {},
   "outputs": [],
   "source": []
  }
 ],
 "metadata": {
  "kernelspec": {
   "display_name": "Python 3 (ipykernel)",
   "language": "python",
   "name": "python3"
  },
  "language_info": {
   "codemirror_mode": {
    "name": "ipython",
    "version": 3
   },
   "file_extension": ".py",
   "mimetype": "text/x-python",
   "name": "python",
   "nbconvert_exporter": "python",
   "pygments_lexer": "ipython3",
   "version": "3.11.5"
  }
 },
 "nbformat": 4,
 "nbformat_minor": 5
}
