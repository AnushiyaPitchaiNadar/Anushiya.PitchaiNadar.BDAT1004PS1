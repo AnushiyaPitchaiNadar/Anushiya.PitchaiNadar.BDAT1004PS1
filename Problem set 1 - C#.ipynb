{
 "cells": [
  {
   "cell_type": "markdown",
   "id": "e915b26f",
   "metadata": {},
   "source": [
    "<h1><font color='#004b87'>Question 1 C#</font></h1>\n",
    "<p>What data type is each of the following?</p>\n",
    "<li>5</li>\n",
    "<li>5.0</li>\n",
    "<li>5 > 1</li>\n",
    "<li>'5'</li>\n",
    "<li>5 * 2</li>\n",
    "<li>'5' * 2</li>\n",
    "<li>'5' + '2'</li>\n",
    "<li>5 / 2</li>\n",
    "<li>5</li>\n",
    "<li>2</li>\n",
    "<li>{5, 2, 1}</li>\n",
    "<li>5== 3</li>\n",
    "<li>Pi</li>"
   ]
  },
  {
   "cell_type": "code",
   "execution_count": 1,
   "id": "11189c09",
   "metadata": {},
   "outputs": [
    {
     "data": {
      "text/html": [
       "\r\n",
       "<div>\r\n",
       "    <div id='dotnet-interactive-this-cell-34124.Microsoft.DotNet.Interactive.Http.HttpPort' style='display: none'>\r\n",
       "        The below script needs to be able to find the current output cell; this is an easy method to get it.\r\n",
       "    </div>\r\n",
       "    <script type='text/javascript'>\r\n",
       "async function probeAddresses(probingAddresses) {\r\n",
       "    function timeout(ms, promise) {\r\n",
       "        return new Promise(function (resolve, reject) {\r\n",
       "            setTimeout(function () {\r\n",
       "                reject(new Error('timeout'))\r\n",
       "            }, ms)\r\n",
       "            promise.then(resolve, reject)\r\n",
       "        })\r\n",
       "    }\r\n",
       "\r\n",
       "    if (Array.isArray(probingAddresses)) {\r\n",
       "        for (let i = 0; i < probingAddresses.length; i++) {\r\n",
       "\r\n",
       "            let rootUrl = probingAddresses[i];\r\n",
       "\r\n",
       "            if (!rootUrl.endsWith('/')) {\r\n",
       "                rootUrl = `${rootUrl}/`;\r\n",
       "            }\r\n",
       "\r\n",
       "            try {\r\n",
       "                let response = await timeout(1000, fetch(`${rootUrl}discovery`, {\r\n",
       "                    method: 'POST',\r\n",
       "                    cache: 'no-cache',\r\n",
       "                    mode: 'cors',\r\n",
       "                    timeout: 1000,\r\n",
       "                    headers: {\r\n",
       "                        'Content-Type': 'text/plain'\r\n",
       "                    },\r\n",
       "                    body: probingAddresses[i]\r\n",
       "                }));\r\n",
       "\r\n",
       "                if (response.status == 200) {\r\n",
       "                    return rootUrl;\r\n",
       "                }\r\n",
       "            }\r\n",
       "            catch (e) { }\r\n",
       "        }\r\n",
       "    }\r\n",
       "}\r\n",
       "\r\n",
       "function loadDotnetInteractiveApi() {\r\n",
       "    probeAddresses([\"http://192.168.56.1:2048/\", \"http://192.168.137.1:2048/\", \"http://10.0.0.189:2048/\", \"http://127.0.0.1:2048/\"])\r\n",
       "        .then((root) => {\r\n",
       "        // use probing to find host url and api resources\r\n",
       "        // load interactive helpers and language services\r\n",
       "        let dotnetInteractiveRequire = require.config({\r\n",
       "        context: '34124.Microsoft.DotNet.Interactive.Http.HttpPort',\r\n",
       "                paths:\r\n",
       "            {\r\n",
       "                'dotnet-interactive': `${root}resources`\r\n",
       "                }\r\n",
       "        }) || require;\r\n",
       "\r\n",
       "            window.dotnetInteractiveRequire = dotnetInteractiveRequire;\r\n",
       "\r\n",
       "            window.configureRequireFromExtension = function(extensionName, extensionCacheBuster) {\r\n",
       "                let paths = {};\r\n",
       "                paths[extensionName] = `${root}extensions/${extensionName}/resources/`;\r\n",
       "                \r\n",
       "                let internalRequire = require.config({\r\n",
       "                    context: extensionCacheBuster,\r\n",
       "                    paths: paths,\r\n",
       "                    urlArgs: `cacheBuster=${extensionCacheBuster}`\r\n",
       "                    }) || require;\r\n",
       "\r\n",
       "                return internalRequire\r\n",
       "            };\r\n",
       "        \r\n",
       "            dotnetInteractiveRequire([\r\n",
       "                    'dotnet-interactive/dotnet-interactive'\r\n",
       "                ],\r\n",
       "                function (dotnet) {\r\n",
       "                    dotnet.init(window);\r\n",
       "                },\r\n",
       "                function (error) {\r\n",
       "                    console.log(error);\r\n",
       "                }\r\n",
       "            );\r\n",
       "        })\r\n",
       "        .catch(error => {console.log(error);});\r\n",
       "    }\r\n",
       "\r\n",
       "// ensure `require` is available globally\r\n",
       "if ((typeof(require) !==  typeof(Function)) || (typeof(require.config) !== typeof(Function))) {\r\n",
       "    let require_script = document.createElement('script');\r\n",
       "    require_script.setAttribute('src', 'https://cdnjs.cloudflare.com/ajax/libs/require.js/2.3.6/require.min.js');\r\n",
       "    require_script.setAttribute('type', 'text/javascript');\r\n",
       "    \r\n",
       "    \r\n",
       "    require_script.onload = function() {\r\n",
       "        loadDotnetInteractiveApi();\r\n",
       "    };\r\n",
       "\r\n",
       "    document.getElementsByTagName('head')[0].appendChild(require_script);\r\n",
       "}\r\n",
       "else {\r\n",
       "    loadDotnetInteractiveApi();\r\n",
       "}\r\n",
       "\r\n",
       "    </script>\r\n",
       "</div>"
      ]
     },
     "metadata": {},
     "output_type": "display_data"
    },
    {
     "name": "stdout",
     "output_type": "stream",
     "text": [
      "Value of 5 is 5 and its type is int - System.Int32\n",
      "Value of 5.0 is 5.0 and its type is double - System.Double\n",
      "Value of 5 > 1 is True and its type is bool - System.Boolean\n",
      "Value of '5' is 5 and its type is char - System.Char\n",
      "Value of 5 * 2 is 10 and its type is int - System.Int32\n",
      "Value of '5' * 2 is 106 and its type is int - System.Int32\n",
      "Value of '5' + '2' is 103 and its type is int - System.Int32\n",
      "Value of 5 / 2 is 2 and its type is int - System.Int32\n",
      "Value of 5 % 2 is 1 and its type is int - System.Int32\n",
      "Value of {5, 2, 1} is System.Int32[] and its type is int array - System.Int32[]\n",
      "Value of 5 == 3 is False and its type is bool - System.Boolean\n",
      "Value of PI is 3.141592653589793 and its type is double - System.Double\n"
     ]
    }
   ],
   "source": [
    "Console.WriteLine(\"Value of 5 is {0} and its type is int - {1}\", 5, typeof(int));\n",
    "Console.WriteLine(\"Value of 5.0 is {0} and its type is double - {1}\", \"5.0\", typeof(double));\n",
    "Console.WriteLine(\"Value of 5 > 1 is {0} and its type is bool - {1}\", 5 > 1, typeof(bool));\n",
    "Console.WriteLine(\"Value of '5' is {0} and its type is char - {1}\", '5', typeof(char));\n",
    "Console.WriteLine(\"Value of 5 * 2 is {0} and its type is int - {1}\", 5 * 2, typeof(int));\n",
    "\n",
    "/**\n",
    "* ASCII value of '5' is 53. So, '5' * 2 is 106 which is an integer.\n",
    "*/\n",
    "Console.WriteLine(\"Value of '5' * 2 is {0} and its type is int - {1}\", '5' * 2, typeof(int));\n",
    "\n",
    "/**\n",
    "* ASCII value of '5' is 53 and '2' is 50. So, '5' * '2' is 103 which is an integer.\n",
    "*/\n",
    "Console.WriteLine(\"Value of '5' + '2' is {0} and its type is int - {1}\", '5' + '2', typeof(int));\n",
    "\n",
    "Console.WriteLine(\"Value of 5 / 2 is {0} and its type is int - {1}\", 5 / 2, typeof(int));\n",
    "Console.WriteLine(\"Value of 5 % 2 is {0} and its type is int - {1}\", 5 % 2, typeof(int));\n",
    "\n",
    "int[] array = {5, 2, 1};\n",
    "Console.WriteLine(\"Value of {{5, 2, 1}} is {0} and its type is int array - {1}\", array.ToString(), typeof(int[]));\n",
    "\n",
    "Console.WriteLine(\"Value of 5 == 3 is {0} and its type is bool - {1}\", 5 == 3, typeof(bool));\n",
    "Console.WriteLine(\"Value of PI is {0} and its type is double - {1}\", Math.PI, typeof(double));"
   ]
  },
  {
   "cell_type": "markdown",
   "id": "5573c4e0",
   "metadata": {},
   "source": [
    "<h1><font color='#004b87'>Question 2 C#</font></h1>\n",
    "<p>Write (and evaluate) C# expressions that answer these questions:</p>\n",
    "<li>How many letters are there in 'Supercalifragilisticexpialidocious'?</li>\n",
    "<li>Does 'Supercalifragilisticexpialidocious' contain 'ice' as a substring?</li>\n",
    "<li>Which of the following words is the longest:\n",
    "Supercalifragilisticexpialidocious, Honorificabilitudinitatibus, or\n",
    "Bababadalgharaghtakamminarronnkonn?</li>\n",
    "<li>Which composer comes first in the dictionary: 'Berlioz', 'Borodin', 'Brian',\n",
    "'Bartok', 'Bellini', 'Buxtehude', 'Bernstein'. Which one comes last?</li>"
   ]
  },
  {
   "cell_type": "code",
   "execution_count": 2,
   "id": "2723c91a",
   "metadata": {},
   "outputs": [
    {
     "name": "stdout",
     "output_type": "stream",
     "text": [
      "Number of letter in Supercalifragilisticexpialidocious is 34\n",
      "\r\n"
     ]
    }
   ],
   "source": [
    "// How many letters are there in 'Supercalifragilisticexpialidocious'?\n",
    "\n",
    "var word1 = \"Supercalifragilisticexpialidocious\";\n",
    "Console.WriteLine(\"Number of letter in {0} is {1}\\n\", word1, word1.Length);"
   ]
  },
  {
   "cell_type": "code",
   "execution_count": 3,
   "id": "2e9c71d6",
   "metadata": {},
   "outputs": [
    {
     "name": "stdout",
     "output_type": "stream",
     "text": [
      "Supercalifragilisticexpialidocious contains 'ice' as a substring\r\n"
     ]
    }
   ],
   "source": [
    "// Does 'Supercalifragilisticexpialidocious' contain 'ice' as a substring?\n",
    "\n",
    "if(word1.Contains(\"ice\")) {\n",
    "    Console.WriteLine(\"{0} contains 'ice' as a substring\", word1);\n",
    "} else {\n",
    "    Console.WriteLine(\"{0} does not contains 'ice' as a substring\", word1);\n",
    "}"
   ]
  },
  {
   "cell_type": "code",
   "execution_count": 4,
   "id": "41161f91",
   "metadata": {},
   "outputs": [],
   "source": [
    "/**\n",
    "* Which of the following words is the longest: Supercalifragilisticexpialidocious,\n",
    "* Honorificabilitudinitatibus, or Bababadalgharaghtakamminarronnkonn?\n",
    "*/\n",
    "\n",
    "var word2 = \"Honorificabilitudinitatibus\";\n",
    "var word3 = \"Bababadalgharaghtakamminarronnkonn\";"
   ]
  },
  {
   "cell_type": "code",
   "execution_count": 5,
   "id": "c2ca3e9e",
   "metadata": {},
   "outputs": [
    {
     "name": "stdout",
     "output_type": "stream",
     "text": [
      "\n",
      "Solution 1 - Finding all the longest words\n",
      "\n",
      "Longest words: Supercalifragilisticexpialidocious, Bababadalgharaghtakamminarronnkonn\n",
      "\n",
      "This approach becomes difficult when we have a lot of words.\n"
     ]
    }
   ],
   "source": [
    "Console.WriteLine(\"\\nSolution 1 - Finding all the longest words\");\n",
    "\n",
    "List<string> longestWords = new List<string>();\n",
    "if (word1.Length >= word2.Length && word1.Length >= word3.Length) {\n",
    "    longestWords.Add(word1);\n",
    "}\n",
    "if(word2.Length >= word1.Length && word2.Length >= word3.Length) {\n",
    "    longestWords.Add(word2);\n",
    "}\n",
    "if(word3.Length >= word1.Length && word3.Length >= word2.Length) {\n",
    "    longestWords.Add(word3);\n",
    "}\n",
    "\n",
    "// Referred - https://stackoverflow.com/questions/3575029/c-sharp-liststring-to-string-with-delimiter\n",
    "Console.WriteLine(\"\\nLongest words: {0}\", String.Join(\", \", longestWords));\n",
    "\n",
    "Console.WriteLine(\"\\nThis approach becomes difficult when we have a lot of words.\")"
   ]
  },
  {
   "cell_type": "code",
   "execution_count": 6,
   "id": "76f0d7ed",
   "metadata": {},
   "outputs": [
    {
     "name": "stdout",
     "output_type": "stream",
     "text": [
      "\n",
      "Solution 2 - Finding only one longest word\n",
      "\n",
      "Bababadalgharaghtakamminarronnkonn is the longest word\n"
     ]
    }
   ],
   "source": [
    "Console.WriteLine(\"\\nSolution 2 - Finding only one longest word\");\n",
    "\n",
    "/**\n",
    "* Assuming that word3 is the longest.\n",
    "* If word1 is longer than word2 and word3, word1 becomes the longest word.\n",
    "* If word2 is longer than word3 and word1, word2 becomes the longest word.\n",
    "*/\n",
    "\n",
    "var longestWord = word3;\n",
    "if (word1.Length > word2.Length && word1.Length > word3.Length) {\n",
    "    longestWord = word1;\n",
    "} else if(word2.Length > word1.Length && word2.Length > word3.Length) {\n",
    "    longestWord = word2;\n",
    "}\n",
    "\n",
    "Console.WriteLine(\"\\n{0} is the longest word\", longestWord);"
   ]
  },
  {
   "cell_type": "code",
   "execution_count": 7,
   "id": "25737e28",
   "metadata": {},
   "outputs": [
    {
     "name": "stdout",
     "output_type": "stream",
     "text": [
      "\n",
      "Solution 1 - Assuming Composers names are unique - Using SortedSet to solve the problem - First and Last methods will give the result.\n",
      "\n",
      "Bartok comes first in the dictionary.\n",
      "Buxtehude comes last in the dictionary\n"
     ]
    }
   ],
   "source": [
    "/**\n",
    "* Which composer comes first in the dictionary: 'Berlioz', 'Borodin', 'Brian', \n",
    "* 'Bartok', 'Bellini', 'Buxtehude', 'Bernstein'. Which one comes last?\n",
    "*/\n",
    "\n",
    "Console.WriteLine(\"\\nSolution 1 - Assuming Composers names are unique - Using SortedSet to solve the problem\"\n",
    "                  + \" - First and Last methods will give the result.\\n\");\n",
    "var composersSet = new SortedSet<string>();\n",
    "composersSet.Add(\"Berlioz\");\n",
    "composersSet.Add(\"Borodin\");\n",
    "composersSet.Add(\"Brian\");\n",
    "composersSet.Add(\"Bartok\");\n",
    "composersSet.Add(\"Bellini\");\n",
    "composersSet.Add(\"Buxtehude\");\n",
    "composersSet.Add(\"Bernstein\");\n",
    "Console.WriteLine(\"{0} comes first in the dictionary.\\n{1} comes last in the dictionary\",\n",
    "            composersSet.First(), composersSet.Last());"
   ]
  },
  {
   "cell_type": "code",
   "execution_count": 8,
   "id": "ec16948b",
   "metadata": {},
   "outputs": [
    {
     "name": "stdout",
     "output_type": "stream",
     "text": [
      "\n",
      "Solution 2 - Composers names are not unique - Using List to solve the problem.\n",
      "\n",
      "Bartok comes first in the dictionary.\n",
      "Buxtehude comes last in the dictionary\n"
     ]
    }
   ],
   "source": [
    "Console.WriteLine(\"\\nSolution 2 - Composers names are not unique - Using List to solve the problem.\\n\");\n",
    "var composersList = new List<string>();\n",
    "composersList.Add(\"Berlioz\");\n",
    "composersList.Add(\"Borodin\");\n",
    "composersList.Add(\"Brian\");\n",
    "composersList.Add(\"Bartok\");\n",
    "composersList.Add(\"Bellini\");\n",
    "composersList.Add(\"Buxtehude\");\n",
    "composersList.Add(\"Bernstein\");\n",
    "\n",
    "// Sorting the List.\n",
    "composersList.Sort();\n",
    "Console.WriteLine(\"{0} comes first in the dictionary.\\n{1} comes last in the dictionary\",\n",
    "            composersList[0], composersList[composersList.Count-1]);"
   ]
  },
  {
   "cell_type": "markdown",
   "id": "5c956ed2",
   "metadata": {},
   "source": [
    "<h1><font color='#004b87'>Question 3 C#</font></h1>\n",
    "<p>Implement function triangleArea(a,b,c) that takes as input the lengths of the 3\n",
    "sides of a triangle and returns the area of the triangle. By Heron's formula, the area\n",
    "of a triangle with side lengths a, b, and c is\n",
    "s(s - a)(s -b)(s -c), where\n",
    "s = (a +b + c) /2.</p>"
   ]
  },
  {
   "cell_type": "code",
   "execution_count": 9,
   "id": "c7dcbc7b",
   "metadata": {},
   "outputs": [],
   "source": [
    "public double triangleArea(double a, double b, double c) {\n",
    "    double s = (a+b+c)/2;\n",
    "    return Math.Sqrt(s*(s-a)*(s-b)*(s-c));\n",
    "}"
   ]
  },
  {
   "cell_type": "code",
   "execution_count": 10,
   "id": "46b912f1",
   "metadata": {},
   "outputs": [
    {
     "data": {
      "text/html": [
       "<div class=\"dni-plaintext\"><pre>1.7320508075688772</pre></div><style>\r\n",
       ".dni-code-hint {\r\n",
       "    font-style: italic;\r\n",
       "    overflow: hidden;\r\n",
       "    white-space: nowrap;\r\n",
       "}\r\n",
       ".dni-treeview {\r\n",
       "    white-space: nowrap;\r\n",
       "}\r\n",
       ".dni-treeview td {\r\n",
       "    vertical-align: top;\r\n",
       "    text-align: start;\r\n",
       "}\r\n",
       "details.dni-treeview {\r\n",
       "    padding-left: 1em;\r\n",
       "}\r\n",
       "table td {\r\n",
       "    text-align: start;\r\n",
       "}\r\n",
       "table tr { \r\n",
       "    vertical-align: top; \r\n",
       "    margin: 0em 0px;\r\n",
       "}\r\n",
       "table tr td pre \r\n",
       "{ \r\n",
       "    vertical-align: top !important; \r\n",
       "    margin: 0em 0px !important;\r\n",
       "} \r\n",
       "table th {\r\n",
       "    text-align: start;\r\n",
       "}\r\n",
       "</style>"
      ]
     },
     "execution_count": 10,
     "metadata": {},
     "output_type": "execute_result"
    }
   ],
   "source": [
    "triangleArea(2,2,2)"
   ]
  },
  {
   "cell_type": "code",
   "execution_count": 11,
   "id": "b75c998c",
   "metadata": {},
   "outputs": [
    {
     "name": "stdout",
     "output_type": "stream",
     "text": [
      "Area of a triangle: 1.7320508075688772\r\n"
     ]
    }
   ],
   "source": [
    "Console.WriteLine(\"Area of a triangle: {0}\", triangleArea(2,2,2));"
   ]
  },
  {
   "cell_type": "markdown",
   "id": "79f26851",
   "metadata": {},
   "source": [
    "<h1><font color='#004b87'>Question 4 C#</font></h1>\n",
    "<p>Write a program in C# Sharp to separate odd and even integers in separate arrays.</p>"
   ]
  },
  {
   "cell_type": "code",
   "execution_count": 12,
   "id": "3b71b50b",
   "metadata": {},
   "outputs": [
    {
     "name": "stdout",
     "output_type": "stream",
     "text": [
      "The Even elements are:\n",
      "42 56 32 \n",
      "The Odd elements are:\n",
      "25 47 "
     ]
    }
   ],
   "source": [
    "int[] items = new int[]{25,47,42,56,32};\n",
    "\n",
    "List<int> odd = new List<int>();\n",
    "List<int> even = new List<int>();\n",
    "\n",
    "foreach(int item in items) {\n",
    "    if(item % 2 != 0) {\n",
    "        odd.Add(item);\n",
    "    } else {\n",
    "        even.Add(item);\n",
    "    }\n",
    "}\n",
    "\n",
    "Console.WriteLine(\"The Even elements are:\");\n",
    "foreach(int item in even) {\n",
    "    Console.Write(\"{0} \", item);\n",
    "}\n",
    "Console.WriteLine();\n",
    "\n",
    "Console.WriteLine(\"The Odd elements are:\");\n",
    "foreach(int item in odd) {\n",
    "    Console.Write(\"{0} \", item);\n",
    "}"
   ]
  },
  {
   "cell_type": "markdown",
   "id": "a6c128d0",
   "metadata": {},
   "source": [
    "<h1><font color='#004b87'>Question 5 C#</font></h1>\n",
    "<p></p>\n",
    "<li>Write a function inside(x,y,x1,y1,x2,y2) that returns True or False depending on whether the point (x,y) lies in the rectangle with lower left corner (x1,y1) and upper right corner (x2,y2).</li>\n",
    "<li>Use function inside() from part a. to write an expression that tests whether the point (1,1) lies in both of the following rectangles: one with lower left corner (0.3, 0.5) and upper right corner (1.1, 0.7) and the other with lower left corner (0.5, 0.2) and upper right corner (1.1, 2).</li>"
   ]
  },
  {
   "cell_type": "code",
   "execution_count": 13,
   "id": "5d406194",
   "metadata": {},
   "outputs": [],
   "source": [
    "/**\n",
    "* Write a function inside(x,y,x1,y1,x2,y2) that returns True or False depending on \n",
    "* whether the point (x,y) lies in the rectangle with lower left corner (x1,y1) and upper right corner (x2,y2).\n",
    "*/\n",
    "\n",
    "public bool inside(double x, double y, double x1, double y1, double x2, double y2) {\n",
    "    // Assumption: Point lies inside the triangle if the points are on the edges/corners of the rectangle.\n",
    "    if(x >= x1 && x <= x2 && y >= y1 && y <= y2) {\n",
    "        return true;\n",
    "    }\n",
    "    return false;\n",
    "}"
   ]
  },
  {
   "cell_type": "code",
   "execution_count": 14,
   "id": "d38b922e",
   "metadata": {},
   "outputs": [
    {
     "data": {
      "text/html": [
       "<div class=\"dni-plaintext\"><pre>True</pre></div><style>\r\n",
       ".dni-code-hint {\r\n",
       "    font-style: italic;\r\n",
       "    overflow: hidden;\r\n",
       "    white-space: nowrap;\r\n",
       "}\r\n",
       ".dni-treeview {\r\n",
       "    white-space: nowrap;\r\n",
       "}\r\n",
       ".dni-treeview td {\r\n",
       "    vertical-align: top;\r\n",
       "    text-align: start;\r\n",
       "}\r\n",
       "details.dni-treeview {\r\n",
       "    padding-left: 1em;\r\n",
       "}\r\n",
       "table td {\r\n",
       "    text-align: start;\r\n",
       "}\r\n",
       "table tr { \r\n",
       "    vertical-align: top; \r\n",
       "    margin: 0em 0px;\r\n",
       "}\r\n",
       "table tr td pre \r\n",
       "{ \r\n",
       "    vertical-align: top !important; \r\n",
       "    margin: 0em 0px !important;\r\n",
       "} \r\n",
       "table th {\r\n",
       "    text-align: start;\r\n",
       "}\r\n",
       "</style>"
      ]
     },
     "execution_count": 14,
     "metadata": {},
     "output_type": "execute_result"
    }
   ],
   "source": [
    "inside(1, 1, 0, 0, 2, 3)"
   ]
  },
  {
   "cell_type": "code",
   "execution_count": 15,
   "id": "89e579e7",
   "metadata": {},
   "outputs": [
    {
     "name": "stdout",
     "output_type": "stream",
     "text": [
      "Point lies in the rectangle\r\n"
     ]
    }
   ],
   "source": [
    "if(inside(1, 1, 0, 0, 2, 3)) {\n",
    "    Console.WriteLine(\"Point lies in the rectangle\");\n",
    "} else {\n",
    "    Console.WriteLine(\"Point does not lie in the rectangle\");\n",
    "}"
   ]
  },
  {
   "cell_type": "code",
   "execution_count": 16,
   "id": "3f067ac2",
   "metadata": {},
   "outputs": [
    {
     "data": {
      "text/html": [
       "<div class=\"dni-plaintext\"><pre>False</pre></div><style>\r\n",
       ".dni-code-hint {\r\n",
       "    font-style: italic;\r\n",
       "    overflow: hidden;\r\n",
       "    white-space: nowrap;\r\n",
       "}\r\n",
       ".dni-treeview {\r\n",
       "    white-space: nowrap;\r\n",
       "}\r\n",
       ".dni-treeview td {\r\n",
       "    vertical-align: top;\r\n",
       "    text-align: start;\r\n",
       "}\r\n",
       "details.dni-treeview {\r\n",
       "    padding-left: 1em;\r\n",
       "}\r\n",
       "table td {\r\n",
       "    text-align: start;\r\n",
       "}\r\n",
       "table tr { \r\n",
       "    vertical-align: top; \r\n",
       "    margin: 0em 0px;\r\n",
       "}\r\n",
       "table tr td pre \r\n",
       "{ \r\n",
       "    vertical-align: top !important; \r\n",
       "    margin: 0em 0px !important;\r\n",
       "} \r\n",
       "table th {\r\n",
       "    text-align: start;\r\n",
       "}\r\n",
       "</style>"
      ]
     },
     "execution_count": 16,
     "metadata": {},
     "output_type": "execute_result"
    }
   ],
   "source": [
    "inside(-1, -1, 0, 0, 2, 3)"
   ]
  },
  {
   "cell_type": "code",
   "execution_count": 17,
   "id": "0752ca0a",
   "metadata": {},
   "outputs": [
    {
     "name": "stdout",
     "output_type": "stream",
     "text": [
      "Point does not lie in the rectangle\r\n"
     ]
    }
   ],
   "source": [
    "if(inside(-1, -1, 0, 0, 2, 3)) {\n",
    "    Console.WriteLine(\"Point lies in the rectangle\");\n",
    "} else {\n",
    "    Console.WriteLine(\"Point does not lie in the rectangle\");\n",
    "}"
   ]
  },
  {
   "cell_type": "code",
   "execution_count": 18,
   "id": "20948184",
   "metadata": {},
   "outputs": [
    {
     "name": "stdout",
     "output_type": "stream",
     "text": [
      "Point does not lie inside both the rectangles\r\n"
     ]
    }
   ],
   "source": [
    "/**\n",
    "* Use function inside() from part a. to write an expression that tests whether \n",
    "* the point (1,1) lies in both of the following rectangles: one with lower left corner (0.3, 0.5) \n",
    "* and upper right corner (1.1, 0.7) and the other with lower left corner (0.5, 0.2) \n",
    "* and upper right corner (1.1, 2).\n",
    "*/\n",
    "\n",
    "if(inside(1, 1, 0.3, 0.5, 1.1, 0.7) && inside(1, 1, 0.5, 0.2, 1.1, 2)) {\n",
    "    Console.WriteLine(\"Point lies inside both the rectangles\");\n",
    "} else {\n",
    "    Console.WriteLine(\"Point does not lie inside both the rectangles\");\n",
    "}"
   ]
  }
 ],
 "metadata": {
  "kernelspec": {
   "display_name": ".NET (C#)",
   "language": "C#",
   "name": ".net-csharp"
  },
  "language_info": {
   "file_extension": ".cs",
   "mimetype": "text/x-csharp",
   "name": "C#",
   "pygments_lexer": "csharp",
   "version": "12.0"
  }
 },
 "nbformat": 4,
 "nbformat_minor": 5
}
