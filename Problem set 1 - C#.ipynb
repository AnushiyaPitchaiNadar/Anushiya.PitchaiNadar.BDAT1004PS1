{
 "cells": [
  {
   "cell_type": "markdown",
   "id": "eb1691e1",
   "metadata": {},
   "source": [
    "# Question 1 C#\n",
    "\n",
    "What data type is each of the following?\n",
    "\n",
    "- `5`\n",
    "- `5.0`\n",
    "- `5 > 1`\n",
    "- `'5'`\n",
    "- `5 * 2`\n",
    "- `'5' * 2`\n",
    "- `'5' + '2'`\n",
    "- `5 / 2`\n",
    "- `5 % 2`\n",
    "- `{5, 2, 1}`\n",
    "- `5 == 3`\n",
    "- `Pi (the number)`\n"
   ]
  },
  {
   "cell_type": "code",
   "execution_count": 12,
   "id": "137f8d3e",
   "metadata": {},
   "outputs": [
    {
     "name": "stderr",
     "output_type": "stream",
     "text": [
      "\r\n",
      "(5,24): warning CS7022: The entry point of the program is global code; ignoring 'DataTypeChecker.Main()' entry point.\r\n",
      "\r\n"
     ]
    }
   ],
   "source": [
    "using System;\n",
    "\n",
    "public class DataTypeChecker\n",
    "{\n",
    "    public static void Main()\n",
    "    {\n",
    "        Console.WriteLine(\"Data type of 5: \" + typeof(int));\n",
    "        Console.WriteLine(\"Data type of 5.0: \" + typeof(double));\n",
    "        Console.WriteLine(\"Data type of 5 > 1: \" + typeof(bool));\n",
    "        Console.WriteLine(\"Data type of '5': \" + typeof(char));\n",
    "        Console.WriteLine(\"Data type of 5 * 2: \" + typeof(int));\n",
    "        Console.WriteLine(\"Data type of '5' * 2: \" + typeof(int));\n",
    "        Console.WriteLine(\"Data type of '5' + '2': \" + typeof(int));\n",
    "        Console.WriteLine(\"Data type of 5 / 2: \" + typeof(int));\n",
    "        Console.WriteLine(\"Data type of 5 % 2: \" + typeof(int));\n",
    "        Console.WriteLine(\"Data type of new int[] {5, 2, 1}: \" + typeof(int[]));\n",
    "        Console.WriteLine(\"Data type of 5 == 3: \" + typeof(bool));\n",
    "        Console.WriteLine(\"Data type of Math.PI: \" + typeof(double));\n",
    "    }\n",
    "}\n"
   ]
  },
  {
   "cell_type": "code",
   "execution_count": null,
   "id": "11189c09",
   "metadata": {},
   "outputs": [],
   "source": []
  },
  {
   "cell_type": "code",
   "execution_count": null,
   "id": "ec16948b",
   "metadata": {},
   "outputs": [],
   "source": []
  }
 ],
 "metadata": {
  "kernelspec": {
   "display_name": ".NET (C#)",
   "language": "C#",
   "name": ".net-csharp"
  },
  "language_info": {
   "file_extension": ".cs",
   "mimetype": "text/x-csharp",
   "name": "C#",
   "pygments_lexer": "csharp",
   "version": "12.0"
  }
 },
 "nbformat": 4,
 "nbformat_minor": 5
}
